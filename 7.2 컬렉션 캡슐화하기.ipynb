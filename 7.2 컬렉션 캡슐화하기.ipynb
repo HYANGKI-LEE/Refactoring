{
 "cells": [
  {
   "cell_type": "markdown",
   "id": "eea39588",
   "metadata": {},
   "source": [
    "# 예시"
   ]
  },
  {
   "cell_type": "markdown",
   "id": "b9e34bb0",
   "metadata": {},
   "source": [
    "## 수정 전"
   ]
  },
  {
   "cell_type": "code",
   "execution_count": null,
   "id": "939eff23",
   "metadata": {},
   "outputs": [],
   "source": [
    "class Person:\n",
    "    def __init__(self, name):\n",
    "        self._name = name\n",
    "        self._courses = []\n",
    "    \n",
    "    def get_name(self):\n",
    "        return self._name\n",
    "    def get_courses(self):\n",
    "        return self._courses\n",
    "    def set_courses(self, aList):\n",
    "        self._courese = aList\n",
    "        \n",
    "class Course:\n",
    "    def __init__(self, name, isAdvanced):\n",
    "        self._name = name\n",
    "        self._isAdvanced = isAdvanced\n",
    "    \n",
    "    def get_name(self):\n",
    "        return self._name\n",
    "    def get_isAdvanced(self):\n",
    "        return self._isAdvanced"
   ]
  },
  {
   "cell_type": "markdown",
   "id": "95548d3b",
   "metadata": {},
   "source": [
    "클라이언트는 Person이 제공하는 수업 컬렉션에서 수업 정보를 얻는다"
   ]
  },
  {
   "cell_type": "code",
   "execution_count": null,
   "id": "8d2774bc",
   "metadata": {},
   "outputs": [],
   "source": [
    "numAdvancedCourses = aPerson['courses'].filter.length()"
   ]
  },
  {
   "cell_type": "markdown",
   "id": "e23cf26c",
   "metadata": {},
   "source": [
    "허점 : 세터를 이용해 수업 컬렉션을 통째로 설정한 클라이언트는 누구든 이 컬렉션을 마음대로 수정할 수 있음"
   ]
  },
  {
   "cell_type": "code",
   "execution_count": null,
   "id": "5252dc72",
   "metadata": {},
   "outputs": [],
   "source": [
    "basicCourseNames = readBasicCourseNames(filename)\n",
    "aPerson['courses'] = basicCourseNames.map(name => Course(name, False))\n",
    "\n",
    "for name in readBasicCourseNames(filename):\n",
    "    aPerson['courses'] = Course(name, False)"
   ]
  },
  {
   "cell_type": "code",
   "execution_count": null,
   "id": "d2dca0ba",
   "metadata": {},
   "outputs": [],
   "source": []
  },
  {
   "cell_type": "markdown",
   "id": "ba564f7c",
   "metadata": {},
   "source": [
    "## 수정 후"
   ]
  },
  {
   "cell_type": "code",
   "execution_count": null,
   "id": "22f90ca5",
   "metadata": {},
   "outputs": [],
   "source": [
    "class Person:\n",
    "    def __init__(self, name):\n",
    "        self._name = name\n",
    "        self._courses = []\n",
    "    \n",
    "    def get_name(self):\n",
    "        return self._name\n",
    "    def get_courses(self):\n",
    "        return self._courses.slice()\n",
    "#     def set_courses(self, aList):\n",
    "#         self._courese = aList\n",
    "    def addCourse(self, aCourse):\n",
    "        self._courses.append(aCourses)\n",
    "    def removeCourse(self, fnIfAbsent):\n",
    "        index = self._courses.indexOf(aCourse)\n",
    "        if index == -1:\n",
    "            fnIfAbsent()\n",
    "        else:\n",
    "            self._courses.splice(index, 1)"
   ]
  },
  {
   "cell_type": "code",
   "execution_count": null,
   "id": "8a2b7161",
   "metadata": {},
   "outputs": [],
   "source": [
    "basicCourseNames = readBasicCourseNames(filename)\n",
    "aPerson['courses'] = basicCourseNames.map(name => Course(name, False))\n",
    "\n",
    "for name in readBasicCourseNames(filename):\n",
    "    aPerson.addCourse()"
   ]
  },
  {
   "cell_type": "markdown",
   "id": "424b076d",
   "metadata": {},
   "source": [
    "이렇게 개별 원소를 추가하고 제거하는 메서드를 제공하기 때문에 setCourses()와 같은 세터를 사용할 일이 없어졌으니 제거한다.\n",
    "세터를 제공해야할 특별한 이유가 있다면 인수로 받은 컬렉션의 복제본을 필드에 저장하게 한다."
   ]
  },
  {
   "cell_type": "code",
   "execution_count": null,
   "id": "39179b0d",
   "metadata": {},
   "outputs": [],
   "source": []
  }
 ],
 "metadata": {
  "kernelspec": {
   "display_name": "job_person",
   "language": "python",
   "name": "job_personalize"
  },
  "language_info": {
   "codemirror_mode": {
    "name": "ipython",
    "version": 3
   },
   "file_extension": ".py",
   "mimetype": "text/x-python",
   "name": "python",
   "nbconvert_exporter": "python",
   "pygments_lexer": "ipython3",
   "version": "3.10.8"
  },
  "toc": {
   "base_numbering": 1,
   "nav_menu": {},
   "number_sections": true,
   "sideBar": true,
   "skip_h1_title": false,
   "title_cell": "Table of Contents",
   "title_sidebar": "Contents",
   "toc_cell": false,
   "toc_position": {},
   "toc_section_display": true,
   "toc_window_display": false
  }
 },
 "nbformat": 4,
 "nbformat_minor": 5
}
