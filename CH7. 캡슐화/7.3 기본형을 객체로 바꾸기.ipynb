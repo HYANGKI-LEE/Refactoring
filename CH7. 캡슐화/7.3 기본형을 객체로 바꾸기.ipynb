{
 "cells": [
  {
   "cell_type": "code",
   "execution_count": null,
   "id": "25bf5a95",
   "metadata": {},
   "outputs": [],
   "source": []
  },
  {
   "cell_type": "markdown",
   "id": "081e1571",
   "metadata": {},
   "source": [
    "## 수정전"
   ]
  },
  {
   "cell_type": "code",
   "execution_count": null,
   "id": "7d3427f2",
   "metadata": {},
   "outputs": [],
   "source": [
    "class Order:\n",
    "    def __init__(self, data):\n",
    "        self.priority = data['priority']"
   ]
  },
  {
   "cell_type": "code",
   "execution_count": null,
   "id": "121ae588",
   "metadata": {},
   "outputs": [],
   "source": [
    "o = Order(data)\n",
    "highPriorityCount = orders.filter(o => 'high' o.priority)"
   ]
  },
  {
   "cell_type": "markdown",
   "id": "7eeb0740",
   "metadata": {},
   "source": [
    "## 수정후"
   ]
  },
  {
   "cell_type": "code",
   "execution_count": null,
   "id": "8bd986bf",
   "metadata": {},
   "outputs": [],
   "source": [
    "class Order:\n",
    "    def __init__(self, data):\n",
    "        self._priority = data['priority']\n",
    "    def getPriority(self):\n",
    "        return self._priority\n",
    "    def setPriority(self, aString):\n",
    "        self._priority = aString\n",
    "    def getPriorityString(self, aString):\n",
    "        return self._priority.toString()\n",
    "    def setPriority(self, aString):\n",
    "        self._priority = Priority(aString)"
   ]
  },
  {
   "cell_type": "code",
   "execution_count": null,
   "id": "88b62b71",
   "metadata": {},
   "outputs": [],
   "source": [
    "class Priority:\n",
    "    def __init__(self, value):\n",
    "        self._value = value\n",
    "    def toString():\n",
    "        return self._value"
   ]
  }
 ],
 "metadata": {
  "kernelspec": {
   "display_name": "job_person",
   "language": "python",
   "name": "job_personalize"
  },
  "language_info": {
   "codemirror_mode": {
    "name": "ipython",
    "version": 3
   },
   "file_extension": ".py",
   "mimetype": "text/x-python",
   "name": "python",
   "nbconvert_exporter": "python",
   "pygments_lexer": "ipython3",
   "version": "3.10.8"
  },
  "toc": {
   "base_numbering": 1,
   "nav_menu": {},
   "number_sections": true,
   "sideBar": true,
   "skip_h1_title": false,
   "title_cell": "Table of Contents",
   "title_sidebar": "Contents",
   "toc_cell": false,
   "toc_position": {},
   "toc_section_display": true,
   "toc_window_display": false
  }
 },
 "nbformat": 4,
 "nbformat_minor": 5
}
