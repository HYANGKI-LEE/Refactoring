{
 "cells": [
  {
   "cell_type": "code",
   "execution_count": null,
   "id": "ffdfe433",
   "metadata": {},
   "outputs": [],
   "source": []
  },
  {
   "cell_type": "markdown",
   "id": "d98175ea",
   "metadata": {},
   "source": [
    "# 수정 전"
   ]
  },
  {
   "cell_type": "code",
   "execution_count": 2,
   "id": "661a3767",
   "metadata": {},
   "outputs": [],
   "source": [
    "class Person:\n",
    "    def __init__(self, name):\n",
    "        self._name = name\n",
    "        self._officeAreaCode = officeAreaCode\n",
    "        self._officeNumber = officeNumber\n",
    "        \n",
    "    def getName(self):\n",
    "        return self._name\n",
    "    def setName(self, arg):\n",
    "        self._name = arg\n",
    "    def getTelephoneNumber(self):\n",
    "        return '{} {}'.format(self._officeAreaCode, self._officeNumber)\n",
    "    def getOfficeAreaCode(self):\n",
    "        return self._officeAreaCode\n",
    "    def setOfficeAreaCode(self, arg):\n",
    "        self._officeAreaCode = arg\n",
    "    def getOfficeNumber(self):\n",
    "        return self._officeNumber\n",
    "    def setOfficeNumber(self, arg):\n",
    "        self._officeNumber = arg"
   ]
  },
  {
   "cell_type": "code",
   "execution_count": null,
   "id": "29b87fe9",
   "metadata": {},
   "outputs": [],
   "source": []
  },
  {
   "cell_type": "code",
   "execution_count": null,
   "id": "27929396",
   "metadata": {},
   "outputs": [],
   "source": []
  },
  {
   "cell_type": "markdown",
   "id": "c73d7211",
   "metadata": {},
   "source": [
    "# 수정 후"
   ]
  },
  {
   "cell_type": "code",
   "execution_count": null,
   "id": "4304bc59",
   "metadata": {},
   "outputs": [],
   "source": [
    "class Person:\n",
    "    def __init__(self, name):\n",
    "        self._name = name\n",
    "        self._telephoneNumber = TelephoneNumber()\n",
    "    \n",
    "    def getName(self):\n",
    "        return self._name\n",
    "    def setName(self, arg):\n",
    "        self._name = arg\n",
    "    def getTelephoneNumber(self):\n",
    "        return self._telephoneNumber.toString()\n",
    "    def getOfficeAreaCode(self):\n",
    "        return self._telephoneNumber.getAreaCode()\n",
    "    def setOfficeAreaCode(self, arg):\n",
    "        self._telephoneNumber.setAreaCode(arg)\n",
    "    def getOfficeNumber(self):\n",
    "        return self._telephoneNumber.getNumber()\n",
    "    def setOfficeNumber(self, arg):\n",
    "        self._telephoneNumber.setNumber(arg)"
   ]
  },
  {
   "cell_type": "code",
   "execution_count": null,
   "id": "3e31c273",
   "metadata": {},
   "outputs": [],
   "source": [
    "class TelephoneNumber:\n",
    "    def __init__(self, name):\n",
    "        self._name = name\n",
    "        self._courses = []\n",
    "    \n",
    "    def getAreaCode(self):\n",
    "        return self._officeAreaCode\n",
    "    def setAreaCode(self, arg):\n",
    "        self._officeAreaCode = arg\n",
    "    def getNumber(self):\n",
    "        return self._officeNumber\n",
    "    def setNumber(self, arg):\n",
    "        self._officeNumber = arg\n",
    "    def toString():\n",
    "        return '{} {}'.format(self.areaCode, self.number)"
   ]
  }
 ],
 "metadata": {
  "kernelspec": {
   "display_name": "job_person",
   "language": "python",
   "name": "job_personalize"
  },
  "language_info": {
   "codemirror_mode": {
    "name": "ipython",
    "version": 3
   },
   "file_extension": ".py",
   "mimetype": "text/x-python",
   "name": "python",
   "nbconvert_exporter": "python",
   "pygments_lexer": "ipython3",
   "version": "3.10.8"
  },
  "toc": {
   "base_numbering": 1,
   "nav_menu": {},
   "number_sections": true,
   "sideBar": true,
   "skip_h1_title": false,
   "title_cell": "Table of Contents",
   "title_sidebar": "Contents",
   "toc_cell": false,
   "toc_position": {},
   "toc_section_display": true,
   "toc_window_display": false
  }
 },
 "nbformat": 4,
 "nbformat_minor": 5
}
