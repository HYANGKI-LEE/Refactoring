{
 "cells": [
  {
   "cell_type": "markdown",
   "id": "941e3fc5",
   "metadata": {},
   "source": [
    "# 예시 : 간단한 레코드 캡슐화하기"
   ]
  },
  {
   "cell_type": "markdown",
   "id": "d0a6937d",
   "metadata": {},
   "source": [
    "## 수정 전"
   ]
  },
  {
   "cell_type": "code",
   "execution_count": 37,
   "id": "3b7eb2a5",
   "metadata": {},
   "outputs": [],
   "source": [
    "organization = {'name': '애크미 구스베리', 'country': 'GB'}"
   ]
  },
  {
   "cell_type": "code",
   "execution_count": null,
   "id": "cb85dbd2",
   "metadata": {},
   "outputs": [],
   "source": []
  },
  {
   "cell_type": "markdown",
   "id": "541072c4",
   "metadata": {},
   "source": [
    "## 수정 후"
   ]
  },
  {
   "cell_type": "markdown",
   "id": "be74f452",
   "metadata": {},
   "source": [
    "(1) 상수를 캡슐화하기"
   ]
  },
  {
   "cell_type": "code",
   "execution_count": 38,
   "id": "a7820c3c",
   "metadata": {},
   "outputs": [],
   "source": [
    "organization = {'name': '애크미 구스베리', 'country': 'GB'}\n",
    "def getRawDataOfOrganization():\n",
    "    return organization"
   ]
  },
  {
   "cell_type": "markdown",
   "id": "08e6ce4e",
   "metadata": {},
   "source": [
    "(2) 레코드를 클래스로 바꾸고, (4) 새 클래스의 인스턴스를 반환하는 함수를 새로 만든다"
   ]
  },
  {
   "cell_type": "code",
   "execution_count": 39,
   "id": "0764953b",
   "metadata": {},
   "outputs": [],
   "source": [
    "class Organization:\n",
    "    def __init__(self, data):\n",
    "        self._data = data"
   ]
  },
  {
   "cell_type": "code",
   "execution_count": 40,
   "id": "3b536640",
   "metadata": {},
   "outputs": [],
   "source": [
    "organization=Organization({'name': '애크미 구스베리', 'country': 'GB'})\n",
    "def getRawDataOfOrganization():\n",
    "    return organization\n",
    "def getOrganization():\n",
    "    return organization"
   ]
  },
  {
   "cell_type": "markdown",
   "id": "1c525c49",
   "metadata": {},
   "source": [
    "(5) 레코드를 갱신하던 코드는 모두 세터를 사용하도록 고친다"
   ]
  },
  {
   "cell_type": "code",
   "execution_count": 51,
   "id": "1d5abe29",
   "metadata": {},
   "outputs": [],
   "source": [
    "class Organization:\n",
    "    def __init__(self, data):\n",
    "        self._data = data\n",
    "    def set_name(self, aString):\n",
    "        self._data['name'] = aString\n",
    "    def get_name(self):\n",
    "        return self._data['name']"
   ]
  },
  {
   "cell_type": "code",
   "execution_count": 52,
   "id": "ea751023",
   "metadata": {},
   "outputs": [],
   "source": [
    "organization=Organization({'name': '애크미 구스베리', 'country': 'GB'})\n",
    "def getRawDataOfOrganization():\n",
    "    return organization\n",
    "def getOrganization():\n",
    "    return organization"
   ]
  },
  {
   "cell_type": "code",
   "execution_count": 53,
   "id": "0e7acda6",
   "metadata": {},
   "outputs": [
    {
     "data": {
      "text/plain": [
       "'애크미 구스베리'"
      ]
     },
     "execution_count": 53,
     "metadata": {},
     "output_type": "execute_result"
    }
   ],
   "source": [
    "getOrganization().get_name()"
   ]
  },
  {
   "cell_type": "markdown",
   "id": "a2f08d46",
   "metadata": {},
   "source": [
    "(6) 이상한 이름으로 지었던 임시함수를 제거한다"
   ]
  },
  {
   "cell_type": "code",
   "execution_count": 54,
   "id": "d5e81278",
   "metadata": {},
   "outputs": [],
   "source": [
    "class Organization:\n",
    "    def __init__(self, data):\n",
    "        self._data = data\n",
    "    def set_name(self, aString):\n",
    "        self._data['name'] = aString\n",
    "    def get_name(self):\n",
    "        return self._data['name']\n",
    "    \n",
    "    \n",
    "organization=Organization({'name': '애크미 구스베리', 'country': 'GB'})\n",
    "def getOrganization():\n",
    "    return organization"
   ]
  },
  {
   "cell_type": "markdown",
   "id": "7b765609",
   "metadata": {},
   "source": [
    "마지막으로 _data의 필드들을 객체 안에 바로 펼쳐놓으면 더 깔끔하다"
   ]
  },
  {
   "cell_type": "code",
   "execution_count": null,
   "id": "fb651803",
   "metadata": {},
   "outputs": [],
   "source": [
    "class Organization:\n",
    "    def __init__(self, data):\n",
    "        self._name = data['name']\n",
    "        self._country = data['country']\n",
    "    \n",
    "    def get_name(self):\n",
    "        return self._name\n",
    "    def set_name(self, aString):\n",
    "        self._name = aString\n",
    "    def get_country(self):\n",
    "        return self._country\n",
    "    def set_country(self, aCountryCode):\n",
    "        self._country = aCountryCode\n",
    "                                   \n",
    "    \n",
    "organization=Organization({'name': '애크미 구스베리', 'country': 'GB'})\n",
    "def getOrganization():\n",
    "    return organization"
   ]
  },
  {
   "cell_type": "code",
   "execution_count": null,
   "id": "308ba052",
   "metadata": {},
   "outputs": [],
   "source": []
  },
  {
   "cell_type": "markdown",
   "id": "f5ab1762",
   "metadata": {},
   "source": [
    "# 예시 : 중첩된 레코드 캡슐화하기"
   ]
  },
  {
   "cell_type": "code",
   "execution_count": null,
   "id": "2410d5d6",
   "metadata": {},
   "outputs": [],
   "source": []
  }
 ],
 "metadata": {
  "kernelspec": {
   "display_name": "job_person",
   "language": "python",
   "name": "job_personalize"
  },
  "language_info": {
   "codemirror_mode": {
    "name": "ipython",
    "version": 3
   },
   "file_extension": ".py",
   "mimetype": "text/x-python",
   "name": "python",
   "nbconvert_exporter": "python",
   "pygments_lexer": "ipython3",
   "version": "3.10.8"
  },
  "toc": {
   "base_numbering": 1,
   "nav_menu": {},
   "number_sections": true,
   "sideBar": true,
   "skip_h1_title": false,
   "title_cell": "Table of Contents",
   "title_sidebar": "Contents",
   "toc_cell": false,
   "toc_position": {},
   "toc_section_display": true,
   "toc_window_display": true
  }
 },
 "nbformat": 4,
 "nbformat_minor": 5
}
