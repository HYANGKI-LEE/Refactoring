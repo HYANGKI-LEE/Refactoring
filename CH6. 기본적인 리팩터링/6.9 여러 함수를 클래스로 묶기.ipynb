{
 "cells": [
  {
   "cell_type": "markdown",
   "id": "63fbaccf",
   "metadata": {},
   "source": [
    "# 수정 전"
   ]
  },
  {
   "cell_type": "code",
   "execution_count": 1,
   "id": "c186f0fe",
   "metadata": {},
   "outputs": [],
   "source": [
    "reading = {'customer': 'ivan', 'quantity': 10, 'month': 5, 'year': 2017}\n",
    "def acquireReading():\n",
    "    return reading"
   ]
  },
  {
   "cell_type": "markdown",
   "id": "0a165b63",
   "metadata": {},
   "source": [
    "클라이언트1"
   ]
  },
  {
   "cell_type": "code",
   "execution_count": null,
   "id": "e03b97b2",
   "metadata": {},
   "outputs": [],
   "source": [
    "aReading = acquireReading()\n",
    "baseCharge = baseRate(aReading['month'], aReading['year']) * aReading['quantity']"
   ]
  },
  {
   "cell_type": "markdown",
   "id": "3587bd5e",
   "metadata": {},
   "source": [
    "클라이언트2"
   ]
  },
  {
   "cell_type": "code",
   "execution_count": null,
   "id": "9f447128",
   "metadata": {},
   "outputs": [],
   "source": [
    "aReading = acquireReading()\n",
    "base = (baseRate(aReading['month'], aReading['year']) * aReading['quantity'])\n",
    "taxableCharge = max(0, base - taxThreshold(aReading['year']))"
   ]
  },
  {
   "cell_type": "markdown",
   "id": "3c70697e",
   "metadata": {},
   "source": [
    "클라이언트3"
   ]
  },
  {
   "cell_type": "code",
   "execution_count": null,
   "id": "d200e23b",
   "metadata": {},
   "outputs": [],
   "source": [
    "aReading = acquireReading()\n",
    "basicChargeAmount = calculateBaseCharge(aReading)\n",
    "def calculateBaseCharge(aReading):\n",
    "    return baseRate(aReading['month'], aReading['year']) * aReading['quantity']"
   ]
  },
  {
   "cell_type": "markdown",
   "id": "023088ab",
   "metadata": {},
   "source": [
    "# 수정 후"
   ]
  },
  {
   "cell_type": "code",
   "execution_count": 3,
   "id": "54d53df9",
   "metadata": {},
   "outputs": [],
   "source": [
    "class Reading():\n",
    "    def __init__(self, data):\n",
    "        self._customer = data['customer']\n",
    "        self._quantity = data['quantity']\n",
    "        self._month = data['month']\n",
    "        self._year = data['year']\n",
    "    def customer(self):\n",
    "        return self._customer\n",
    "    def quantity(self):\n",
    "        return self._quantity\n",
    "    def month(self):\n",
    "        return self._month\n",
    "    def year(self):\n",
    "        return self._year\n",
    "    def baseCharge(self):\n",
    "        return baseRate(self._month, self._year) * self._quantity \n",
    "    def taxableCharge(self):\n",
    "        return max(0, self.baseCharge() - taxThreshold(aReading['year']))"
   ]
  }
 ],
 "metadata": {
  "kernelspec": {
   "display_name": "job_person",
   "language": "python",
   "name": "job_personalize"
  },
  "language_info": {
   "codemirror_mode": {
    "name": "ipython",
    "version": 3
   },
   "file_extension": ".py",
   "mimetype": "text/x-python",
   "name": "python",
   "nbconvert_exporter": "python",
   "pygments_lexer": "ipython3",
   "version": "3.10.8"
  },
  "toc": {
   "base_numbering": 1,
   "nav_menu": {},
   "number_sections": true,
   "sideBar": true,
   "skip_h1_title": false,
   "title_cell": "Table of Contents",
   "title_sidebar": "Contents",
   "toc_cell": false,
   "toc_position": {},
   "toc_section_display": true,
   "toc_window_display": false
  }
 },
 "nbformat": 4,
 "nbformat_minor": 5
}
