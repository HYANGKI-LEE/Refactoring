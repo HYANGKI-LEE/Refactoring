{
 "cells": [
  {
   "cell_type": "markdown",
   "id": "8bf6e377",
   "metadata": {},
   "source": [
    "# 수정 전"
   ]
  },
  {
   "cell_type": "code",
   "execution_count": null,
   "id": "72acd123",
   "metadata": {},
   "outputs": [],
   "source": [
    "reading = {'customer': 'ivan', 'quantity': 10, 'month': 5, 'year': 2017}\n",
    "def acquireReading():\n",
    "    return reading"
   ]
  },
  {
   "cell_type": "markdown",
   "id": "28921318",
   "metadata": {},
   "source": [
    "클라이언트1"
   ]
  },
  {
   "cell_type": "code",
   "execution_count": null,
   "id": "723e3d0d",
   "metadata": {},
   "outputs": [],
   "source": [
    "aReading = acquireReading()\n",
    "baseCharge = baseRate(aReading['month'], aReading['year']) * aReading['quantity']"
   ]
  },
  {
   "cell_type": "markdown",
   "id": "1a0450a3",
   "metadata": {},
   "source": [
    "클라이언트2"
   ]
  },
  {
   "cell_type": "code",
   "execution_count": null,
   "id": "951b72b7",
   "metadata": {},
   "outputs": [],
   "source": [
    "aReading = acquireReading()\n",
    "base = (baseRate(aReading['month'], aReading['year']) * aReading['quantity'])\n",
    "taxableCharge = max(0, base - taxThreshold(aReading['year']))"
   ]
  },
  {
   "cell_type": "markdown",
   "id": "f6e9a65a",
   "metadata": {},
   "source": [
    "클라이언트3"
   ]
  },
  {
   "cell_type": "code",
   "execution_count": null,
   "id": "e8216bff",
   "metadata": {},
   "outputs": [],
   "source": [
    "aReading = acquireReading()\n",
    "basicChargeAmount = calculateBaseCharge(aReading)\n",
    "def calculateBaseCharge(aReading):\n",
    "    return baseRate(aReading['month'], aReading['year']) * aReading['quantity']"
   ]
  },
  {
   "cell_type": "markdown",
   "id": "08518659",
   "metadata": {},
   "source": [
    "# 수정 후"
   ]
  },
  {
   "cell_type": "code",
   "execution_count": null,
   "id": "3c3bae0a",
   "metadata": {},
   "outputs": [],
   "source": [
    "def enrichReading(original):\n",
    "    result = original.copy()\n",
    "    result['baseCharge'] = calculateBaseCharge(result)\n",
    "    result['taxableChange'] = max(0, result['baseCharge'] - taxThreshold['year'])\n",
    "    return result"
   ]
  },
  {
   "cell_type": "markdown",
   "id": "1065fbf0",
   "metadata": {},
   "source": [
    "클라이언트1"
   ]
  },
  {
   "cell_type": "code",
   "execution_count": null,
   "id": "1ffc9bd1",
   "metadata": {},
   "outputs": [],
   "source": [
    "rawReading = acquireReading()\n",
    "aReading = enrichReading(rawReading)\n",
    "baseCharge = aReading['baseCharge']"
   ]
  },
  {
   "cell_type": "markdown",
   "id": "2ef16768",
   "metadata": {},
   "source": [
    "클라이언트2"
   ]
  },
  {
   "cell_type": "code",
   "execution_count": null,
   "id": "5eebbdec",
   "metadata": {},
   "outputs": [],
   "source": [
    "rawReading = acquireReading()\n",
    "aReading = enrichReading(rawReading)\n",
    "taxableCharge = aReading['taxableChange']"
   ]
  },
  {
   "cell_type": "code",
   "execution_count": null,
   "id": "b679a5ba",
   "metadata": {},
   "outputs": [],
   "source": []
  },
  {
   "cell_type": "code",
   "execution_count": null,
   "id": "81d7b6c3",
   "metadata": {},
   "outputs": [],
   "source": []
  }
 ],
 "metadata": {
  "kernelspec": {
   "display_name": "job_person",
   "language": "python",
   "name": "job_personalize"
  },
  "language_info": {
   "codemirror_mode": {
    "name": "ipython",
    "version": 3
   },
   "file_extension": ".py",
   "mimetype": "text/x-python",
   "name": "python",
   "nbconvert_exporter": "python",
   "pygments_lexer": "ipython3",
   "version": "3.10.8"
  },
  "toc": {
   "base_numbering": 1,
   "nav_menu": {},
   "number_sections": true,
   "sideBar": true,
   "skip_h1_title": false,
   "title_cell": "Table of Contents",
   "title_sidebar": "Contents",
   "toc_cell": false,
   "toc_position": {},
   "toc_section_display": true,
   "toc_window_display": false
  }
 },
 "nbformat": 4,
 "nbformat_minor": 5
}
