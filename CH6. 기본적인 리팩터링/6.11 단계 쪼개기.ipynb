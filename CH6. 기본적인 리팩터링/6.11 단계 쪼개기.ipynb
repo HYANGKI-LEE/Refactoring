{
 "cells": [
  {
   "cell_type": "code",
   "execution_count": null,
   "id": "15c0260c",
   "metadata": {},
   "outputs": [],
   "source": [
    "product = {\n",
    "    'basePrice': 150, \n",
    "    'discountThreshold': 10, # 할인 적용 개수\n",
    "    'discountRate': 0.1,\n",
    "}\n",
    "shippingMethod = {\n",
    "    'discountThreshold': 1000, # 할인 적용 대상 물건 금액\n",
    "    'discountedFee': 5,\n",
    "    'feePerCase': 10\n",
    "}"
   ]
  },
  {
   "cell_type": "markdown",
   "id": "2a9ac50b",
   "metadata": {},
   "source": [
    "# 수정 전"
   ]
  },
  {
   "cell_type": "code",
   "execution_count": 20,
   "id": "fe4bb28d",
   "metadata": {},
   "outputs": [],
   "source": [
    "def priceOrder(product, quantity, shippingMethod):\n",
    "    basePrice = product['basePrice'] * quantity\n",
    "    discount = max(quantity - product['discountThreshold'], 0) * product['basePrice'] * product['discountRate']\n",
    "    shippingPerCase = shippingMethod['discountedFee'] if basePrice > shippingMethod['discountThreshold'] \\\n",
    "                            else shippingMethod['feePerCase']\n",
    "    shippingCost = quantity * shippingPerCase\n",
    "    price = basePrice - discount + shippingCost\n",
    "    print('price = {} - {} + {} = {}'.format(basePrice, discount, shippingCost, price))\n",
    "    return price"
   ]
  },
  {
   "cell_type": "code",
   "execution_count": 22,
   "id": "a1ce58fe",
   "metadata": {},
   "outputs": [],
   "source": [
    "# priceOrder(product=product, quantity=10, shippingMethod=shippingMethod)"
   ]
  },
  {
   "cell_type": "markdown",
   "id": "6aa51c1c",
   "metadata": {},
   "source": [
    "# 수정 후 "
   ]
  },
  {
   "cell_type": "code",
   "execution_count": null,
   "id": "555245bc",
   "metadata": {},
   "outputs": [],
   "source": [
    "def priceOrder(product, quantity, shippingMethod):\n",
    "    priceData = calculatePricingData(product, quantity)\n",
    "    # print('price = {} - {} + {} = {}'.format(basePrice, discount, shippingCost, price))\n",
    "    return applyShipping(priceData, shippingMethod)\n",
    "\n",
    "def calculatePricingData(product, quantity):\n",
    "    basePrice = product['basePrice'] * quantity\n",
    "    discount = max(quantity - product['discountThreshold'], 0) * product['basePrice'] * product['discountRate']\n",
    "    return {'basePrice': basePrice, 'quantity': quantity, 'discount': discount}\n",
    "\n",
    "def applyShipping(priceData, shippingMethod):\n",
    "    shippingPerCase = shippingMethod['discountedFee'] if priceData['basePrice'] > shippingMethod['discountThreshold'] \\\n",
    "                            else shippingMethod['feePerCase']\n",
    "    shippingCost = priceData['quantity'] * shippingPerCase\n",
    "    return priceData['basePrice'] - priceData['discount'] + shippingCost"
   ]
  },
  {
   "cell_type": "code",
   "execution_count": null,
   "id": "83d8b8e8",
   "metadata": {},
   "outputs": [],
   "source": []
  },
  {
   "cell_type": "code",
   "execution_count": null,
   "id": "1dc65ad5",
   "metadata": {},
   "outputs": [],
   "source": []
  },
  {
   "cell_type": "code",
   "execution_count": null,
   "id": "e16c41d4",
   "metadata": {},
   "outputs": [],
   "source": []
  },
  {
   "cell_type": "markdown",
   "id": "aec8f97f",
   "metadata": {},
   "source": [
    "# 예시 : 명령줄 프로그램 쪼개기(자바)"
   ]
  },
  {
   "cell_type": "markdown",
   "id": "be5be5dc",
   "metadata": {},
   "source": [
    "## 수정 전"
   ]
  },
  {
   "cell_type": "code",
   "execution_count": null,
   "id": "01d053b9",
   "metadata": {},
   "outputs": [],
   "source": [
    "from argparse import Namespace, ArgumentParser\n",
    "\n",
    "def setup_args() -> Namespace:\n",
    "    parser = ArgumentParser(description='mp_calculator')\n",
    "    parser.add_argument('--length', type=int)\n",
    "    return parser.parse_args()\n",
    "\n",
    "\n",
    "if __name__ == '__main__':\n",
    "    args = setup_args()\n",
    "    assert args.length != 0, '파일명을 입력하세요'\n",
    "    filename = args.filename\n",
    "    _input = # read input file\n",
    "    mapper = ObjectMapper()\n",
    "    orders = mapper.readValue(_input, Order[].class)\n",
    "    if any([arg == 'r' for arg in agrs]):\n",
    "        print([orders.status=='ready' for order in orders])\n",
    "    else:\n",
    "        print(orders.length)"
   ]
  },
  {
   "cell_type": "code",
   "execution_count": null,
   "id": "9f1e875c",
   "metadata": {},
   "outputs": [],
   "source": []
  },
  {
   "cell_type": "markdown",
   "id": "b05e193a",
   "metadata": {},
   "source": [
    "## 수정 후"
   ]
  },
  {
   "cell_type": "code",
   "execution_count": null,
   "id": "1681d8e5",
   "metadata": {},
   "outputs": [],
   "source": []
  },
  {
   "cell_type": "code",
   "execution_count": null,
   "id": "e1da42ab",
   "metadata": {},
   "outputs": [],
   "source": []
  },
  {
   "cell_type": "code",
   "execution_count": null,
   "id": "a26a79fe",
   "metadata": {},
   "outputs": [],
   "source": []
  },
  {
   "cell_type": "code",
   "execution_count": null,
   "id": "460ea0f3",
   "metadata": {},
   "outputs": [],
   "source": []
  }
 ],
 "metadata": {
  "kernelspec": {
   "display_name": "job_person",
   "language": "python",
   "name": "job_personalize"
  },
  "language_info": {
   "codemirror_mode": {
    "name": "ipython",
    "version": 3
   },
   "file_extension": ".py",
   "mimetype": "text/x-python",
   "name": "python",
   "nbconvert_exporter": "python",
   "pygments_lexer": "ipython3",
   "version": "3.10.8"
  },
  "toc": {
   "base_numbering": 1,
   "nav_menu": {},
   "number_sections": true,
   "sideBar": true,
   "skip_h1_title": false,
   "title_cell": "Table of Contents",
   "title_sidebar": "Contents",
   "toc_cell": false,
   "toc_position": {},
   "toc_section_display": true,
   "toc_window_display": false
  }
 },
 "nbformat": 4,
 "nbformat_minor": 5
}
