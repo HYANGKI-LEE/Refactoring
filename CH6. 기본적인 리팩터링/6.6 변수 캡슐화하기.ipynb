{
 "cells": [
  {
   "cell_type": "code",
   "execution_count": 5,
   "id": "b3c9495f",
   "metadata": {},
   "outputs": [],
   "source": [
    "defaultOwner = {'firstName': '마틴', 'lastName': '파울러'}\n",
    "spaceship = {}\n",
    "spaceship['owner'] = defaultOwner;\n",
    "defaultOwner = {'firstName': '레베카', 'lastName': '파슨스'}"
   ]
  },
  {
   "cell_type": "code",
   "execution_count": 4,
   "id": "d58bf0fc",
   "metadata": {},
   "outputs": [
    {
     "data": {
      "text/plain": [
       "{'owner': {'firstName': '마틴', 'lastName': '파울러'}}"
      ]
     },
     "execution_count": 4,
     "metadata": {},
     "output_type": "execute_result"
    }
   ],
   "source": [
    "spaceship"
   ]
  },
  {
   "cell_type": "code",
   "execution_count": 6,
   "id": "28efc381",
   "metadata": {},
   "outputs": [
    {
     "data": {
      "text/plain": [
       "{'firstName': '레베카', 'lastName': '파슨스'}"
      ]
     },
     "execution_count": 6,
     "metadata": {},
     "output_type": "execute_result"
    }
   ],
   "source": [
    "defaultOwner"
   ]
  },
  {
   "cell_type": "code",
   "execution_count": null,
   "id": "0a6d4730",
   "metadata": {},
   "outputs": [],
   "source": []
  },
  {
   "cell_type": "markdown",
   "id": "f91fd914",
   "metadata": {},
   "source": [
    "# 예시"
   ]
  },
  {
   "cell_type": "code",
   "execution_count": 6,
   "id": "d6307132",
   "metadata": {},
   "outputs": [],
   "source": [
    "defaultOwner = {'firstName': '마틴', 'lastName': '파울러'}\n",
    "def getDefaultOwner():\n",
    "    return defaultOwner\n",
    "def setDefaultOwner(arg):\n",
    "    defaultOwner = arg"
   ]
  },
  {
   "cell_type": "code",
   "execution_count": 7,
   "id": "0b3bf90d",
   "metadata": {},
   "outputs": [],
   "source": [
    "spaceship = {}\n",
    "spaceship['owner'] = getDefaultOwner();\n",
    "setDefaultOwner({'firstName': '레베카', 'lastName': '파슨스'})"
   ]
  },
  {
   "cell_type": "code",
   "execution_count": 8,
   "id": "dca36ea4",
   "metadata": {},
   "outputs": [
    {
     "data": {
      "text/plain": [
       "{'owner': {'firstName': '마틴', 'lastName': '파울러'}}"
      ]
     },
     "execution_count": 8,
     "metadata": {},
     "output_type": "execute_result"
    }
   ],
   "source": [
    "spaceship"
   ]
  },
  {
   "cell_type": "code",
   "execution_count": 9,
   "id": "916f4018",
   "metadata": {},
   "outputs": [
    {
     "data": {
      "text/plain": [
       "{'firstName': '마틴', 'lastName': '파울러'}"
      ]
     },
     "execution_count": 9,
     "metadata": {},
     "output_type": "execute_result"
    }
   ],
   "source": [
    "defaultOwner"
   ]
  },
  {
   "cell_type": "code",
   "execution_count": null,
   "id": "13142252",
   "metadata": {},
   "outputs": [],
   "source": []
  },
  {
   "cell_type": "markdown",
   "id": "6ed9072b",
   "metadata": {},
   "source": [
    "## global 선언하기"
   ]
  },
  {
   "cell_type": "code",
   "execution_count": 10,
   "id": "71434ac4",
   "metadata": {},
   "outputs": [],
   "source": [
    "defaultOwner = {'firstName': '마틴', 'lastName': '파울러'}\n",
    "def getDefaultOwner():\n",
    "    return defaultOwner\n",
    "def setDefaultOwner(arg):\n",
    "    global defaultOwner \n",
    "    defaultOwner = arg"
   ]
  },
  {
   "cell_type": "code",
   "execution_count": 11,
   "id": "4691a22d",
   "metadata": {},
   "outputs": [],
   "source": [
    "spaceship = {}\n",
    "spaceship['owner'] = getDefaultOwner();\n",
    "setDefaultOwner({'firstName': '레베카', 'lastName': '파슨스'})"
   ]
  },
  {
   "cell_type": "code",
   "execution_count": 12,
   "id": "992f1289",
   "metadata": {},
   "outputs": [
    {
     "data": {
      "text/plain": [
       "{'owner': {'firstName': '마틴', 'lastName': '파울러'}}"
      ]
     },
     "execution_count": 12,
     "metadata": {},
     "output_type": "execute_result"
    }
   ],
   "source": [
    "spaceship"
   ]
  },
  {
   "cell_type": "code",
   "execution_count": 13,
   "id": "747dec01",
   "metadata": {},
   "outputs": [
    {
     "data": {
      "text/plain": [
       "{'firstName': '레베카', 'lastName': '파슨스'}"
      ]
     },
     "execution_count": 13,
     "metadata": {},
     "output_type": "execute_result"
    }
   ],
   "source": [
    "defaultOwner"
   ]
  },
  {
   "cell_type": "code",
   "execution_count": null,
   "id": "5fc9d0d6",
   "metadata": {},
   "outputs": [],
   "source": []
  },
  {
   "cell_type": "markdown",
   "id": "85dd414b",
   "metadata": {},
   "source": [
    "## update 활용하기"
   ]
  },
  {
   "cell_type": "code",
   "execution_count": 16,
   "id": "093c3109",
   "metadata": {},
   "outputs": [],
   "source": [
    "default_owner = {'firstName': 'Martin', 'lastName': 'Fowler'}\n",
    "def get_default_owner():\n",
    "    return default_owner.copy()\n",
    "def set_default_owner(arg):\n",
    "    default_owner.update(arg)"
   ]
  },
  {
   "cell_type": "code",
   "execution_count": 17,
   "id": "fdbae9ab",
   "metadata": {},
   "outputs": [],
   "source": [
    "spaceship = {}\n",
    "spaceship['owner'] = getDefaultOwner();\n",
    "setDefaultOwner({'firstName': '레베카', 'lastName': '파슨스'})"
   ]
  },
  {
   "cell_type": "code",
   "execution_count": 18,
   "id": "aea73774",
   "metadata": {},
   "outputs": [
    {
     "data": {
      "text/plain": [
       "{'owner': {'firstName': '레베카', 'lastName': '파슨스'}}"
      ]
     },
     "execution_count": 18,
     "metadata": {},
     "output_type": "execute_result"
    }
   ],
   "source": [
    "spaceship"
   ]
  },
  {
   "cell_type": "code",
   "execution_count": 19,
   "id": "c56e5494",
   "metadata": {},
   "outputs": [
    {
     "data": {
      "text/plain": [
       "{'firstName': '레베카', 'lastName': '파슨스'}"
      ]
     },
     "execution_count": 19,
     "metadata": {},
     "output_type": "execute_result"
    }
   ],
   "source": [
    "defaultOwner"
   ]
  },
  {
   "cell_type": "code",
   "execution_count": null,
   "id": "ec23f38d",
   "metadata": {},
   "outputs": [],
   "source": []
  },
  {
   "cell_type": "code",
   "execution_count": null,
   "id": "d2d2c1e3",
   "metadata": {},
   "outputs": [],
   "source": []
  },
  {
   "cell_type": "code",
   "execution_count": null,
   "id": "67ed305d",
   "metadata": {},
   "outputs": [],
   "source": []
  },
  {
   "cell_type": "markdown",
   "id": "72dab401",
   "metadata": {},
   "source": [
    "# 값 캡슐화하기"
   ]
  },
  {
   "cell_type": "code",
   "execution_count": 25,
   "id": "1a971fd9",
   "metadata": {},
   "outputs": [],
   "source": [
    "owner1 = getDefaultOwner();\n",
    "assert owner1['lastName']=='파울러', \"처음 값 확인\""
   ]
  },
  {
   "cell_type": "code",
   "execution_count": 26,
   "id": "71119162",
   "metadata": {},
   "outputs": [],
   "source": [
    "owner2 = getDefaultOwner();\n",
    "owner2['lastName'] = '파슨스'\n",
    "assert owner1['lastName']=='파슨스', \"owner2를 변경한 후\""
   ]
  },
  {
   "cell_type": "code",
   "execution_count": 27,
   "id": "edbfd740",
   "metadata": {},
   "outputs": [
    {
     "data": {
      "text/plain": [
       "{'firstName': '마틴', 'lastName': '파슨스'}"
      ]
     },
     "execution_count": 27,
     "metadata": {},
     "output_type": "execute_result"
    }
   ],
   "source": [
    "owner2"
   ]
  },
  {
   "cell_type": "code",
   "execution_count": 28,
   "id": "af5ee500",
   "metadata": {},
   "outputs": [
    {
     "data": {
      "text/plain": [
       "{'firstName': '마틴', 'lastName': '파슨스'}"
      ]
     },
     "execution_count": 28,
     "metadata": {},
     "output_type": "execute_result"
    }
   ],
   "source": [
    "owner1"
   ]
  },
  {
   "cell_type": "code",
   "execution_count": null,
   "id": "583705e0",
   "metadata": {},
   "outputs": [],
   "source": []
  },
  {
   "cell_type": "markdown",
   "id": "e5ec8e09",
   "metadata": {},
   "source": [
    "## 방법1 : 게터가 데이터의 복제본을 반환하도록"
   ]
  },
  {
   "cell_type": "code",
   "execution_count": 37,
   "id": "7cd7f65e",
   "metadata": {},
   "outputs": [],
   "source": [
    "defaultOwnerData = {'firstName': '마틴', 'lastName': '파울러'}\n",
    "def getDefaultOwner():\n",
    "    return defaultOwnerData.copy()\n",
    "def setDefaultOwner(arg):\n",
    "    defaultOwnerData = arg"
   ]
  },
  {
   "cell_type": "code",
   "execution_count": 38,
   "id": "dc112a07",
   "metadata": {},
   "outputs": [],
   "source": [
    "owner1 = getDefaultOwner();\n",
    "assert owner1['lastName']=='파울러', \"처음 값 확인\""
   ]
  },
  {
   "cell_type": "code",
   "execution_count": 39,
   "id": "48164bb9",
   "metadata": {},
   "outputs": [
    {
     "data": {
      "text/plain": [
       "{'firstName': '마틴', 'lastName': '파울러'}"
      ]
     },
     "execution_count": 39,
     "metadata": {},
     "output_type": "execute_result"
    }
   ],
   "source": [
    "owner1"
   ]
  },
  {
   "cell_type": "code",
   "execution_count": 40,
   "id": "98396250",
   "metadata": {},
   "outputs": [
    {
     "ename": "AssertionError",
     "evalue": "owner2를 변경한 후",
     "output_type": "error",
     "traceback": [
      "\u001b[0;31m---------------------------------------------------------------------------\u001b[0m",
      "\u001b[0;31mAssertionError\u001b[0m                            Traceback (most recent call last)",
      "\u001b[0;32m/var/folders/9p/bcm0wkw94b1fv3r2w389c2_80000gn/T/ipykernel_22574/1367045505.py\u001b[0m in \u001b[0;36m<module>\u001b[0;34m\u001b[0m\n\u001b[1;32m      1\u001b[0m \u001b[0mowner2\u001b[0m \u001b[0;34m=\u001b[0m \u001b[0mgetDefaultOwner\u001b[0m\u001b[0;34m(\u001b[0m\u001b[0;34m)\u001b[0m\u001b[0;34m;\u001b[0m\u001b[0;34m\u001b[0m\u001b[0;34m\u001b[0m\u001b[0m\n\u001b[1;32m      2\u001b[0m \u001b[0mowner2\u001b[0m\u001b[0;34m[\u001b[0m\u001b[0;34m'lastName'\u001b[0m\u001b[0;34m]\u001b[0m \u001b[0;34m=\u001b[0m \u001b[0;34m'파슨스'\u001b[0m\u001b[0;34m\u001b[0m\u001b[0;34m\u001b[0m\u001b[0m\n\u001b[0;32m----> 3\u001b[0;31m \u001b[0;32massert\u001b[0m \u001b[0mowner1\u001b[0m\u001b[0;34m[\u001b[0m\u001b[0;34m'lastName'\u001b[0m\u001b[0;34m]\u001b[0m\u001b[0;34m==\u001b[0m\u001b[0;34m'파슨스'\u001b[0m\u001b[0;34m,\u001b[0m \u001b[0;34m\"owner2를 변경한 후\"\u001b[0m\u001b[0;34m\u001b[0m\u001b[0;34m\u001b[0m\u001b[0m\n\u001b[0m",
      "\u001b[0;31mAssertionError\u001b[0m: owner2를 변경한 후"
     ]
    }
   ],
   "source": [
    "owner2 = getDefaultOwner();\n",
    "owner2['lastName'] = '파슨스'\n",
    "assert owner1['lastName']=='파슨스', \"owner2를 변경한 후\""
   ]
  },
  {
   "cell_type": "code",
   "execution_count": 41,
   "id": "2da284d9",
   "metadata": {},
   "outputs": [
    {
     "data": {
      "text/plain": [
       "{'firstName': '마틴', 'lastName': '파울러'}"
      ]
     },
     "execution_count": 41,
     "metadata": {},
     "output_type": "execute_result"
    }
   ],
   "source": [
    "defaultOwnerData"
   ]
  },
  {
   "cell_type": "code",
   "execution_count": null,
   "id": "2a775992",
   "metadata": {},
   "outputs": [],
   "source": []
  },
  {
   "cell_type": "markdown",
   "id": "1339dd1d",
   "metadata": {},
   "source": [
    "## 방법2 : 레코드 캡슐화하기(7.1절)"
   ]
  },
  {
   "cell_type": "code",
   "execution_count": 59,
   "id": "2d935975",
   "metadata": {},
   "outputs": [],
   "source": [
    "class Person():\n",
    "    def __init__(self, data):\n",
    "        self._lastName = data['lastName']\n",
    "        self._firstName = data['firstName']\n",
    "    def lastName(self):\n",
    "        return self._lastName\n",
    "    def firstName(self):\n",
    "        return self._firstName"
   ]
  },
  {
   "cell_type": "code",
   "execution_count": 66,
   "id": "d3109ff7",
   "metadata": {},
   "outputs": [
    {
     "data": {
      "text/plain": [
       "'파울러'"
      ]
     },
     "execution_count": 66,
     "metadata": {},
     "output_type": "execute_result"
    }
   ],
   "source": [
    "p = Person(defaultOwnerData)\n",
    "p.lastName()"
   ]
  },
  {
   "cell_type": "code",
   "execution_count": 67,
   "id": "5baf8646",
   "metadata": {},
   "outputs": [
    {
     "data": {
      "text/plain": [
       "'마틴'"
      ]
     },
     "execution_count": 67,
     "metadata": {},
     "output_type": "execute_result"
    }
   ],
   "source": [
    "p.firstName()"
   ]
  },
  {
   "cell_type": "code",
   "execution_count": 62,
   "id": "0d58e2b3",
   "metadata": {},
   "outputs": [],
   "source": [
    "defaultOwnerData = {'firstName': '마틴', 'lastName': '파울러'}\n",
    "def getDefaultOwner():\n",
    "    return Person(defaultOwnerData)\n",
    "def setDefaultOwner(arg):\n",
    "    defaultOwnerData = arg"
   ]
  },
  {
   "cell_type": "code",
   "execution_count": 68,
   "id": "60cacf8c",
   "metadata": {},
   "outputs": [
    {
     "data": {
      "text/plain": [
       "'파울러'"
      ]
     },
     "execution_count": 68,
     "metadata": {},
     "output_type": "execute_result"
    }
   ],
   "source": [
    "owner1 = getDefaultOwner();\n",
    "owner1.lastName()"
   ]
  },
  {
   "cell_type": "code",
   "execution_count": 70,
   "id": "634c99f7",
   "metadata": {},
   "outputs": [
    {
     "data": {
      "text/plain": [
       "'마틴'"
      ]
     },
     "execution_count": 70,
     "metadata": {},
     "output_type": "execute_result"
    }
   ],
   "source": [
    "owner1.firstName()"
   ]
  },
  {
   "cell_type": "code",
   "execution_count": 72,
   "id": "7e9a605a",
   "metadata": {},
   "outputs": [],
   "source": [
    "setDefaultOwner({'firstName': '레베카', 'lastName': '파슨스'})"
   ]
  },
  {
   "cell_type": "code",
   "execution_count": 73,
   "id": "98524e11",
   "metadata": {},
   "outputs": [
    {
     "data": {
      "text/plain": [
       "{'firstName': '마틴', 'lastName': '파울러'}"
      ]
     },
     "execution_count": 73,
     "metadata": {},
     "output_type": "execute_result"
    }
   ],
   "source": [
    "defaultOwnerData"
   ]
  },
  {
   "cell_type": "code",
   "execution_count": 71,
   "id": "bdd4338c",
   "metadata": {},
   "outputs": [
    {
     "ename": "TypeError",
     "evalue": "'Person' object does not support item assignment",
     "output_type": "error",
     "traceback": [
      "\u001b[0;31m---------------------------------------------------------------------------\u001b[0m",
      "\u001b[0;31mTypeError\u001b[0m                                 Traceback (most recent call last)",
      "\u001b[0;32m/var/folders/9p/bcm0wkw94b1fv3r2w389c2_80000gn/T/ipykernel_22574/1367045505.py\u001b[0m in \u001b[0;36m<module>\u001b[0;34m\u001b[0m\n\u001b[1;32m      1\u001b[0m \u001b[0mowner2\u001b[0m \u001b[0;34m=\u001b[0m \u001b[0mgetDefaultOwner\u001b[0m\u001b[0;34m(\u001b[0m\u001b[0;34m)\u001b[0m\u001b[0;34m;\u001b[0m\u001b[0;34m\u001b[0m\u001b[0;34m\u001b[0m\u001b[0m\n\u001b[0;32m----> 2\u001b[0;31m \u001b[0mowner2\u001b[0m\u001b[0;34m[\u001b[0m\u001b[0;34m'lastName'\u001b[0m\u001b[0;34m]\u001b[0m \u001b[0;34m=\u001b[0m \u001b[0;34m'파슨스'\u001b[0m\u001b[0;34m\u001b[0m\u001b[0;34m\u001b[0m\u001b[0m\n\u001b[0m\u001b[1;32m      3\u001b[0m \u001b[0;32massert\u001b[0m \u001b[0mowner1\u001b[0m\u001b[0;34m[\u001b[0m\u001b[0;34m'lastName'\u001b[0m\u001b[0;34m]\u001b[0m\u001b[0;34m==\u001b[0m\u001b[0;34m'파슨스'\u001b[0m\u001b[0;34m,\u001b[0m \u001b[0;34m\"owner2를 변경한 후\"\u001b[0m\u001b[0;34m\u001b[0m\u001b[0;34m\u001b[0m\u001b[0m\n",
      "\u001b[0;31mTypeError\u001b[0m: 'Person' object does not support item assignment"
     ]
    }
   ],
   "source": [
    "owner2 = getDefaultOwner();\n",
    "owner2['lastName'] = '파슨스'\n",
    "assert owner1['lastName']=='파슨스', \"owner2를 변경한 후\""
   ]
  },
  {
   "cell_type": "code",
   "execution_count": null,
   "id": "d7bf35d1",
   "metadata": {},
   "outputs": [],
   "source": []
  },
  {
   "cell_type": "code",
   "execution_count": null,
   "id": "fc9477b3",
   "metadata": {},
   "outputs": [],
   "source": []
  }
 ],
 "metadata": {
  "kernelspec": {
   "display_name": "dart_fss",
   "language": "python",
   "name": "dart_fss"
  },
  "language_info": {
   "codemirror_mode": {
    "name": "ipython",
    "version": 3
   },
   "file_extension": ".py",
   "mimetype": "text/x-python",
   "name": "python",
   "nbconvert_exporter": "python",
   "pygments_lexer": "ipython3",
   "version": "3.10.4"
  },
  "toc": {
   "base_numbering": 1,
   "nav_menu": {},
   "number_sections": true,
   "sideBar": true,
   "skip_h1_title": false,
   "title_cell": "Table of Contents",
   "title_sidebar": "Contents",
   "toc_cell": false,
   "toc_position": {
    "height": "calc(100% - 180px)",
    "left": "10px",
    "top": "150px",
    "width": "340px"
   },
   "toc_section_display": true,
   "toc_window_display": true
  }
 },
 "nbformat": 4,
 "nbformat_minor": 5
}
