{
 "cells": [
  {
   "cell_type": "markdown",
   "id": "74dc4ca0",
   "metadata": {},
   "source": [
    "# 수정 전"
   ]
  },
  {
   "cell_type": "code",
   "execution_count": 1,
   "id": "bbf8acba",
   "metadata": {},
   "outputs": [],
   "source": [
    "class Order:\n",
    "    def __init__(self, quantity, item):\n",
    "        self._quantity=quantity\n",
    "        self._item=item\n",
    "    def getPrice(self):\n",
    "        basePrice = self._quantity * self._item['price']\n",
    "        discountFactor = 0.98\n",
    "        if basePrice > 1000:\n",
    "            discountFactor -= 0.03\n",
    "        return basePrice * discountFactor"
   ]
  },
  {
   "cell_type": "code",
   "execution_count": null,
   "id": "ebf72b3f",
   "metadata": {},
   "outputs": [],
   "source": []
  },
  {
   "cell_type": "code",
   "execution_count": null,
   "id": "2587542c",
   "metadata": {},
   "outputs": [],
   "source": []
  },
  {
   "cell_type": "code",
   "execution_count": null,
   "id": "2bd6ad39",
   "metadata": {},
   "outputs": [],
   "source": [
    "class Order:\n",
    "    def __init__(self, quantity, item):\n",
    "        self._quantity=quantity\n",
    "        self._item=item\n",
    "    def getPrice(self):\n",
    "        return self.basePrice() * self.discountFactor()\n",
    "    def basePrice(self):\n",
    "        return self._quantity * self._item['price']\n",
    "    def discountFactor(self):\n",
    "        discountFactor = 0.98\n",
    "        if self.basePrice()>1000:\n",
    "            discountFactor -= 0.03\n",
    "        return discountFactor"
   ]
  }
 ],
 "metadata": {
  "kernelspec": {
   "display_name": "job_person",
   "language": "python",
   "name": "job_personalize"
  },
  "language_info": {
   "codemirror_mode": {
    "name": "ipython",
    "version": 3
   },
   "file_extension": ".py",
   "mimetype": "text/x-python",
   "name": "python",
   "nbconvert_exporter": "python",
   "pygments_lexer": "ipython3",
   "version": "3.10.8"
  },
  "toc": {
   "base_numbering": 1,
   "nav_menu": {},
   "number_sections": true,
   "sideBar": true,
   "skip_h1_title": false,
   "title_cell": "Table of Contents",
   "title_sidebar": "Contents",
   "toc_cell": false,
   "toc_position": {},
   "toc_section_display": true,
   "toc_window_display": false
  }
 },
 "nbformat": 4,
 "nbformat_minor": 5
}
